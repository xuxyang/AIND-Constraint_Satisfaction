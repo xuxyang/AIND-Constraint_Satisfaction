{
 "cells": [
  {
   "cell_type": "markdown",
   "metadata": {
    "deletable": true,
    "editable": true
   },
   "source": [
    "# Constraint Satisfaction Problems Lab\n",
    "\n",
    "## Introduction\n",
    "Constraint Satisfaction is a technique for solving problems by expressing limits on the values of each variable in the solution with mathematical constraints.  We've used constraints before -- constraints in the Sudoku project are enforced implicitly by filtering the legal values for each box, and the planning project represents constraints as arcs connecting nodes in the planning graph -- but in this lab exercise we will use a symbolic math library to explicitly construct binary constraints and then use Backtracking to solve the N-queens problem (which is a generalization [8-queens problem](https://en.wikipedia.org/wiki/Eight_queens_puzzle)).  Using symbolic constraints should make it easier to visualize and reason about the constraints (especially for debugging), but comes with a performance penalty.\n",
    "\n",
    "![8-queens puzzle solution](EightQueens.gif)\n",
    "\n",
    "Briefly, the 8-queens problem asks you to place 8 queens on a standard 8x8 chessboard such that none of the queens are in \"check\" (i.e., no two queens occupy the same row, column, or diagonal). The N-queens problem generalizes the puzzle to to any size square board.\n",
    "\n",
    "## I. Lab Overview\n",
    "Students should read through the code and the wikipedia page (or other resources) to understand the N-queens problem, then:\n",
    "\n",
    "0. Complete the warmup exercises in the [Sympy_Intro notebook](Sympy_Intro.ipynb) to become familiar with they sympy library and symbolic representation for constraints\n",
    "0. Implement the [NQueensCSP class](#II.-Representing-the-N-Queens-Problem) to develop an efficient encoding of the N-queens problem and explicitly generate the constraints bounding the solution\n",
    "0. Write the [search functions](#III.-Backtracking-Search) for recursive backtracking, and use them to solve the N-queens problem\n",
    "0. (Optional) Conduct [additional experiments](#IV.-Experiments-%28Optional%29) with CSPs and various modifications to the search order (minimum remaining values, least constraining value, etc.)"
   ]
  },
  {
   "cell_type": "code",
   "execution_count": 1,
   "metadata": {
    "collapsed": false,
    "deletable": true,
    "editable": true
   },
   "outputs": [],
   "source": [
    "import matplotlib as mpl\n",
    "import matplotlib.pyplot as plt\n",
    "\n",
    "from util import constraint, displayBoard\n",
    "from sympy import *\n",
    "from IPython.display import display\n",
    "init_printing()\n",
    "%matplotlib inline"
   ]
  },
  {
   "cell_type": "markdown",
   "metadata": {
    "deletable": true,
    "editable": true
   },
   "source": [
    "## II. Representing the N-Queens Problem\n",
    "There are many acceptable ways to represent the N-queens problem, but one convenient way is to recognize that one of the constraints (either the row or column constraint) can be enforced implicitly by the encoding.  If we represent a solution as an array with N elements, then each position in the array can represent a column of the board, and the value at each position can represent which row the queen is placed on.\n",
    "\n",
    "In this encoding, we only need a constraint to make sure that no two queens occupy the same row, and one to make sure that no two queens occupy the same diagonal.\n",
    "\n",
    "### Define Symbolic Expressions for the Problem Constraints\n",
    "Before implementing the board class, we need to construct the symbolic constraints that will be used in the CSP.  Declare any symbolic terms required, and then declare two generic constraint generators:\n",
    "- `diffRow` - generate constraints that return True if the two arguments do not match\n",
    "- `diffDiag` - generate constraints that return True if two arguments are not on the same diagonal (Hint: you can easily test whether queens in two columns are on the same diagonal by testing if the difference in the number of rows and the number of columns match)\n",
    "\n",
    "Both generators should produce binary constraints (i.e., each should have two free symbols) once they're bound to specific variables in the CSP.  For example, Eq((a + b), (b + c)) is not a binary constraint, but Eq((a + b), (b + c)).subs(b, 1) _is_ a binary constraint because one of the terms has been bound to a constant, so there are only two free variables remaining. "
   ]
  },
  {
   "cell_type": "code",
   "execution_count": 2,
   "metadata": {
    "collapsed": false,
    "deletable": true,
    "editable": true
   },
   "outputs": [],
   "source": [
    "A = symbols(\"a:2\")\n",
    "diffRow = constraint(\"DiffRow\", Ne(A[0], A[1]))\n",
    "B= symbols(\"b:2\")\n",
    "diffDiag = constraint(\"DiffDiag\", Ne(abs(A[0]-A[1]), abs(B[0]-B[1])))"
   ]
  },
  {
   "cell_type": "code",
   "execution_count": 3,
   "metadata": {
    "collapsed": false,
    "deletable": true,
    "editable": true
   },
   "outputs": [
    {
     "name": "stdout",
     "output_type": "stream",
     "text": [
      "Passed all diffRow tests.\n",
      "Passed all diffDiag tests.\n"
     ]
    }
   ],
   "source": [
    "# Test diffRow and diffDiag\n",
    "_x = symbols(\"x:3\")\n",
    "\n",
    "# generate a diffRow instance for testing\n",
    "diffRow_test = diffRow.subs(zip(A, _x[:2]))\n",
    "\n",
    "assert(len(diffRow_test.free_symbols) == 2)\n",
    "assert(diffRow_test.subs({_x[0]: 0, _x[1]: 1}) == True)\n",
    "assert(diffRow_test.subs({_x[0]: 0, _x[1]: 0}) == False)\n",
    "assert(diffRow_test.subs({_x[0]: 0}) != False)  # partial assignment is not false\n",
    "print(\"Passed all diffRow tests.\")\n",
    "\n",
    "# generate a diffDiag instance for testing\n",
    "indexes = [0, 2]\n",
    "#diffDiag_test = diffDiag.subs({A[0]:_x[0], A[1]:_x[2], B[0]:0, B[1]:2})\n",
    "diffDiag_test = diffDiag.subs({A[0]:_x[indexes[0]], A[1]:_x[indexes[1]], B[0]:indexes[0], B[1]:indexes[1]})\n",
    "#diffDiag_tmp = diffDiag.subs(zip(B, indexes))\n",
    "#diffDiag_test = diffDiag_tmp.subs(zip(A, [_x[i] for i in indexes]))\n",
    "\n",
    "assert(len(diffDiag_test.free_symbols) == 2)\n",
    "assert(diffDiag_test.subs({_x[0]: 0, _x[2]: 2}) == False)\n",
    "assert(diffDiag_test.subs({_x[0]: 0, _x[2]: 0}) == True)\n",
    "assert(diffDiag_test.subs({_x[0]: 0}) != False)  # partial assignment is not false\n",
    "print(\"Passed all diffDiag tests.\")"
   ]
  },
  {
   "cell_type": "markdown",
   "metadata": {
    "deletable": true,
    "editable": true
   },
   "source": [
    "### The N-Queens CSP Class\n",
    "Implement the CSP class as described above, with constraints to make sure each queen is on a different row and different diagonal than every other queen, and a variable for each column defining the row that containing a queen in that column."
   ]
  },
  {
   "cell_type": "code",
   "execution_count": 47,
   "metadata": {
    "collapsed": false,
    "deletable": true,
    "editable": true
   },
   "outputs": [],
   "source": [
    "from itertools import combinations\n",
    "import copy\n",
    "\n",
    "class NQueensCSP:\n",
    "    \"\"\"CSP representation of the N-queens problem\n",
    "    \n",
    "    Parameters\n",
    "    ----------\n",
    "    N : Integer\n",
    "        The side length of a square chess board to use for the problem, and\n",
    "        the number of queens that must be placed on the board\n",
    "    \"\"\"\n",
    "    def __init__(self, N):\n",
    "        _vars = symbols(\"x:{}\".format(N))\n",
    "        _domain = set(range(N))\n",
    "        self.size = N\n",
    "        self.variables = _vars\n",
    "        self.domains = {v: copy.deepcopy(_domain) for v in _vars}\n",
    "        self._constraints = {x: set() for x in _vars}\n",
    "\n",
    "        # add constraints - for each pair of variables xi and xj, create\n",
    "        # a diffRow(xi, xj) and a diffDiag(xi, xj) instance, and add them\n",
    "        # to the self._constraints dictionary keyed to both xi and xj;\n",
    "        # (i.e., add them to both self._constraints[xi] and self._constraints[xj])\n",
    "        for i,j in combinations(range(N), 2):\n",
    "            diffRow_instance = diffRow.subs({A[0]:_vars[i], A[1]:_vars[j]})\n",
    "            diffDiag_instance = diffDiag.subs({A[0]:_vars[i], A[1]:_vars[j], B[0]:i, B[1]:j})\n",
    "            self._constraints[_vars[i]].add(diffRow_instance)\n",
    "            self._constraints[_vars[i]].add(diffDiag_instance)\n",
    "            self._constraints[_vars[j]].add(diffRow_instance)\n",
    "            self._constraints[_vars[j]].add(diffDiag_instance)\n",
    "    \n",
    "    @property\n",
    "    def constraints(self):\n",
    "        \"\"\"Read-only list of constraints -- cannot be used for evaluation \"\"\"\n",
    "        constraints = set()\n",
    "        for _cons in self._constraints.values():\n",
    "            constraints |= _cons\n",
    "        return list(constraints)\n",
    "    \n",
    "    def is_complete(self, assignment):\n",
    "        \"\"\"An assignment is complete if it is consistent, and all constraints\n",
    "        are satisfied.\n",
    "        \n",
    "        Hint: Backtracking search checks consistency of each assignment, so checking\n",
    "        for completeness can be done very efficiently\n",
    "        \n",
    "        Parameters\n",
    "        ----------\n",
    "        assignment : dict(sympy.Symbol: Integer)\n",
    "            An assignment of values to variables that have previously been checked\n",
    "            for consistency with the CSP constraints\n",
    "        \"\"\"\n",
    "        return len(assignment) == self.size\n",
    "        \n",
    "    \n",
    "    def is_consistent(self, var, value, assignment):\n",
    "        \"\"\"Check consistency of a proposed variable assignment\n",
    "                \n",
    "        self._constraints[x] returns a set of constraints that involve variable `x`.\n",
    "        An assignment is consistent unless the assignment it causes a constraint to\n",
    "        return False (partial assignments are always consistent).\n",
    "        \n",
    "        Parameters\n",
    "        ----------\n",
    "        var : sympy.Symbol\n",
    "            One of the symbolic variables in the CSP\n",
    "            \n",
    "        value : Numeric\n",
    "            A valid value (i.e., in the domain of) the variable `var` for assignment\n",
    "\n",
    "        assignment : dict(sympy.Symbol: Integer)\n",
    "            A dictionary mapping CSP variables to row assignment of each queen\n",
    "            \n",
    "        \"\"\"\n",
    "        for constraint in self._constraints[var]:\n",
    "            constraint_check = constraint.subs({var:value})\n",
    "            constraint_result = constraint_check.subs(assignment)\n",
    "            if constraint_result == False:\n",
    "                return False\n",
    "        return True\n",
    "    \n",
    "    def revise(self, var1, var2):\n",
    "        #revised = False\n",
    "        removed_value_count = 0\n",
    "        for constraint in self._constraints[var1]:\n",
    "            if var2 not in constraint.free_symbols:\n",
    "                continue\n",
    "            for var1_value in self.domains[var1].copy():\n",
    "                found_valid_var2 = False\n",
    "                for var2_value in self.domains[var2]:\n",
    "                    constraint_value = constraint.subs({var1:var1_value, var2:var2_value})\n",
    "                    if constraint_value == True:\n",
    "                        found_valid_var2 = True\n",
    "                        break\n",
    "                if found_valid_var2 == False:\n",
    "                    self.domains[var1].remove(var1_value)\n",
    "                    removed_value_count += 1\n",
    "                    #revised = True\n",
    "        return removed_value_count\n",
    "    \n",
    "    def neighbors_var(self, var):\n",
    "        neighbors = set()\n",
    "        for csp_var in self.variables:\n",
    "            if csp_var != var:\n",
    "                neighbors.add(csp_var)\n",
    "        return neighbors\n",
    "    \n",
    "    def ac_3(self, var):\n",
    "        total_removed_values = 0\n",
    "        ac_queue = [(var_neighbor, var) for var_neighbor in self.neighbors_var(var)]\n",
    "        while len(ac_queue) > 0:\n",
    "            ac = ac_queue.pop()\n",
    "            removed_values = self.revise(ac[0], ac[1])\n",
    "            total_removed_values += removed_values\n",
    "            if removed_values > 0:\n",
    "                if len(self.domains[ac[0]]) == 0:\n",
    "                    return False, total_removed_values\n",
    "                revisit_vars = self.neighbors_var(ac[0])\n",
    "                revisit_vars.remove(ac[1])\n",
    "                for revisit_var in revisit_vars:\n",
    "                    ac_queue.insert(0, (revisit_var, ac[0]))\n",
    "        return True, total_removed_values\n",
    "        \n",
    "    def inference(self, var, value):\n",
    "        \"\"\"Perform logical inference based on proposed variable assignment\n",
    "        \n",
    "        Returns an empty dictionary by default; function can be overridden to\n",
    "        check arc-, path-, or k-consistency; returning None signals \"failure\".\n",
    "        \n",
    "        Parameters\n",
    "        ----------\n",
    "        var : sympy.Symbol\n",
    "            One of the symbolic variables in the CSP\n",
    "        \n",
    "        value : Integer\n",
    "            A valid value (i.e., in the domain of) the variable `var` for assignment\n",
    "            \n",
    "        Returns\n",
    "        -------\n",
    "        dict(sympy.Symbol: Integer) or None\n",
    "            A partial set of values mapped to variables in the CSP based on inferred\n",
    "            constraints from previous mappings, or None to indicate failure\n",
    "        \"\"\"\n",
    "        # TODO (Optional): Implement this function based on AIMA discussion\n",
    "        infered_assigment = {}\n",
    "\n",
    "        self.domains[var] = {value}\n",
    "        arc_consistent, total_removed_values = self.ac_3(var)\n",
    "        if arc_consistent == False:\n",
    "            return None, total_removed_values\n",
    "                        \n",
    "        for csp_var in self.variables:\n",
    "            if len(self.domains[csp_var]) == 1:\n",
    "                for csp_var_value in self.domains[csp_var]:\n",
    "                    infered_assigment[csp_var] = csp_var_value\n",
    "        return infered_assigment, total_removed_values\n",
    "        #return {var:value}, 0\n",
    "    \n",
    "    \n",
    "    def show(self, assignment):\n",
    "        \"\"\"Display a chessboard with queens drawn in the locations specified by an\n",
    "        assignment\n",
    "        \n",
    "        Parameters\n",
    "        ----------\n",
    "        assignment : dict(sympy.Symbol: Integer)\n",
    "            A dictionary mapping CSP variables to row assignment of each queen\n",
    "            \n",
    "        \"\"\"\n",
    "        locations = [(i, assignment[j]) for i, j in enumerate(self.variables)\n",
    "                     if assignment.get(j, None) is not None]\n",
    "        displayBoard(locations, self.size)"
   ]
  },
  {
   "cell_type": "markdown",
   "metadata": {
    "collapsed": true,
    "deletable": true,
    "editable": true
   },
   "source": [
    "## III. Backtracking Search\n",
    "Implement the [backtracking search](https://github.com/aimacode/aima-pseudocode/blob/master/md/Backtracking-Search.md) algorithm (required) and helper functions (optional) from the AIMA text.  "
   ]
  },
  {
   "cell_type": "code",
   "execution_count": 48,
   "metadata": {
    "collapsed": false,
    "deletable": true,
    "editable": true
   },
   "outputs": [],
   "source": [
    "def select(csp, assignment):\n",
    "    \"\"\"Choose an unassigned variable in a constraint satisfaction problem \"\"\"\n",
    "    # TODO (Optional): Implement a more sophisticated selection routine from AIMA\n",
    "    min_remain_values_var, min_remain_values_count = None, csp.size+1\n",
    "    for var in csp.variables:\n",
    "        if var not in assignment:\n",
    "            remain_values_count = len(csp.domains[var])\n",
    "            if remain_values_count < min_remain_values_count:\n",
    "                min_remain_values_var, min_remain_values_count = var, remain_values_count\n",
    "    return min_remain_values_var\n",
    "\n",
    "#     for var in csp.variables:\n",
    "#         if var not in assignment:\n",
    "#             return var\n",
    "#     return None\n",
    "\n",
    "def order_values(var, assignment, csp, node_visited):\n",
    "#def order_values(var, assignment, csp):\n",
    "    \"\"\"Select the order of the values in the domain of a variable for checking during search;\n",
    "    the default is lexicographically.\n",
    "    \"\"\"\n",
    "    # TODO (Optional): Implement a more sophisticated search ordering routine from AIMA\n",
    "    #return csp.domains[var]\n",
    "\n",
    "    possible_values_csp_inferences = []\n",
    "    for value in csp.domains[var]:\n",
    "        node_visited += 1\n",
    "        if csp.is_consistent(var, value, assignment):\n",
    "            new_csp = copy.deepcopy(csp)\n",
    "            inferences, total_removed_values = new_csp.inference(var, value)\n",
    "            if inferences is not None:\n",
    "                possible_values_csp_inferences.append((value,new_csp,inferences,total_removed_values))\n",
    "    ordered_possible_values_csp_inferences = sorted(possible_values_csp_inferences, key=lambda x: (len(x[2]),x[3]))\n",
    "    return ordered_possible_values_csp_inferences, node_visited\n",
    "    \n",
    "\n",
    "def backtracking_search(csp):\n",
    "    \"\"\"Helper function used to initiate backtracking search \"\"\"\n",
    "    return backtrack({}, csp, 0, 0)\n",
    "\n",
    "def backtrack(assignment, csp, node_visited, node_expanded):\n",
    "    \"\"\"Perform backtracking search for a valid assignment to a CSP\n",
    "    \n",
    "    Parameters\n",
    "    ----------\n",
    "    assignment : dict(sympy.Symbol: Integer)\n",
    "        An partial set of values mapped to variables in the CSP\n",
    "        \n",
    "    csp : CSP\n",
    "        A problem encoded as a CSP. Interface should include csp.variables, csp.domains,\n",
    "        csp.inference(), csp.is_consistent(), and csp.is_complete().\n",
    "    \n",
    "    Returns\n",
    "    -------\n",
    "    dict(sympy.Symbol: Integer) or None\n",
    "        A partial set of values mapped to variables in the CSP, or None to indicate failure\n",
    "    \"\"\"\n",
    "#     if csp.is_complete(assignment):\n",
    "#         return assignment, node_visited, node_expanded\n",
    "#     node_expanded += 1\n",
    "#     var = select(csp, assignment)\n",
    "#     possible_values = order_values(var, assignment, csp)\n",
    "#     for value in possible_values:\n",
    "#         node_visited += 1\n",
    "#         if csp.is_consistent(var, value, assignment):\n",
    "#             new_assignment = copy.deepcopy(assignment)\n",
    "#             new_csp = copy.deepcopy(csp)\n",
    "#             inferences,_ = new_csp.inference(var, value)\n",
    "#             if inferences is not None:\n",
    "#                 new_assignment.update(inferences)\n",
    "#                 result, node_visited, node_expanded = backtrack(new_assignment, new_csp, node_visited, node_expanded)\n",
    "#                 if result is not None:\n",
    "#                     return result, node_visited, node_expanded\n",
    "#     return None, node_visited, node_expanded\n",
    "\n",
    "    if csp.is_complete(assignment):\n",
    "        return assignment, node_visited, node_expanded\n",
    "    node_expanded += 1\n",
    "    var = select(csp, assignment)\n",
    "    possible_values_csp_inferences, node_visited = order_values(var, assignment, csp, node_visited)\n",
    "    for value,new_csp,inferences,_ in possible_values_csp_inferences:\n",
    "        new_assignment = copy.deepcopy(assignment)\n",
    "        new_assignment.update(inferences)\n",
    "        result, node_visited, node_expanded = backtrack(new_assignment, new_csp, node_visited, node_expanded)\n",
    "        if result is not None:\n",
    "            return result, node_visited, node_expanded\n",
    "    return None, node_visited, node_expanded\n",
    "                "
   ]
  },
  {
   "cell_type": "markdown",
   "metadata": {
    "deletable": true,
    "editable": true
   },
   "source": [
    "### Solve the CSP\n",
    "With backtracking implemented, now you can use it to solve instances of the problem. We've started with the classical 8-queen version, but you can try other sizes as well.  Boards larger than 12x12 may take some time to solve because sympy is slow in the way its being used here, and because the selection and value ordering methods haven't been implemented.  See if you can implement any of the techniques in the AIMA text to speed up the solver!"
   ]
  },
  {
   "cell_type": "code",
   "execution_count": 50,
   "metadata": {
    "collapsed": false,
    "deletable": true,
    "editable": true
   },
   "outputs": [
    {
     "name": "stdout",
     "output_type": "stream",
     "text": [
      "CSP problems have variables, each variable has a domain, and the problem has a list of constraints.\n",
      "Showing the variables for the N-Queens CSP:\n"
     ]
    },
    {
     "data": {
      "image/png": "[encoded data removed]",
      "text/latex": [
       "$$\\left ( x_{0}, \\quad x_{1}, \\quad x_{2}, \\quad x_{3}, \\quad x_{4}, \\quad x_{5}, \\quad x_{6}, \\quad x_{7}, \\quad x_{8}, \\quad x_{9}, \\quad x_{10}, \\quad x_{11}\\right )$$"
      ],
      "text/plain": [
       "(x₀, x₁, x₂, x₃, x₄, x₅, x₆, x₇, x₈, x₉, x₁₀, x₁₁)"
      ]
     },
     "metadata": {},
     "output_type": "display_data"
    },
    {
     "name": "stdout",
     "output_type": "stream",
     "text": [
      "Showing domain for x0:\n"
     ]
    },
    {
     "data": {
      "image/png": "[encoded data removed]",
      "text/latex": [
       "$$\\left\\{0, 1, 2, 3, 4, 5, 6, 7, 8, 9, 10, 11\\right\\}$$"
      ],
      "text/plain": [
       "set([0, 1, 2, 3, 4, 5, 6, 7, 8, 9, 10, 11])"
      ]
     },
     "metadata": {},
     "output_type": "display_data"
    },
    {
     "name": "stdout",
     "output_type": "stream",
     "text": [
      "And showing the constraints for x0:\n"
     ]
    },
    {
     "data": {
      "image/png": "[encoded data removed]",
      "text/latex": [
       "$$\\left\\{\\operatorname{DiffDiag}{\\left (x_{0},x_{3} \\right )}, \\operatorname{DiffDiag}{\\left (x_{0},x_{7} \\right )}, \\operatorname{DiffDiag}{\\left (x_{1},x_{0} \\right )}, \\operatorname{DiffDiag}{\\left (x_{10},x_{0} \\right )}, \\operatorname{DiffDiag}{\\left (x_{11},x_{0} \\right )}, \\operatorname{DiffDiag}{\\left (x_{2},x_{0} \\right )}, \\operatorname{DiffDiag}{\\left (x_{4},x_{0} \\right )}, \\operatorname{DiffDiag}{\\left (x_{5},x_{0} \\right )}, \\operatorname{DiffDiag}{\\left (x_{6},x_{0} \\right )}, \\operatorname{DiffDiag}{\\left (x_{8},x_{0} \\right )}, \\operatorname{DiffDiag}{\\left (x_{9},x_{0} \\right )}, \\operatorname{DiffRow}{\\left (x_{0},x_{3} \\right )}, \\operatorname{DiffRow}{\\left (x_{0},x_{7} \\right )}, \\operatorname{DiffRow}{\\left (x_{1},x_{0} \\right )}, \\operatorname{DiffRow}{\\left (x_{10},x_{0} \\right )}, \\operatorname{DiffRow}{\\left (x_{11},x_{0} \\right )}, \\operatorname{DiffRow}{\\left (x_{2},x_{0} \\right )}, \\operatorname{DiffRow}{\\left (x_{4},x_{0} \\right )}, \\operatorname{DiffRow}{\\left (x_{5},x_{0} \\right )}, \\operatorname{DiffRow}{\\left (x_{6},x_{0} \\right )}, \\operatorname{DiffRow}{\\left (x_{8},x_{0} \\right )}, \\operatorname{DiffRow}{\\left (x_{9},x_{0} \\right )}\\right\\}$$"
      ],
      "text/plain": [
       "set([DiffDiag(x₀, x₃), DiffDiag(x₀, x₇), DiffDiag(x₁, x₀), DiffDiag(x₁₀, x₀), \n",
       "DiffDiag(x₁₁, x₀), DiffDiag(x₂, x₀), DiffDiag(x₄, x₀), DiffDiag(x₅, x₀), DiffD\n",
       "iag(x₆, x₀), DiffDiag(x₈, x₀), DiffDiag(x₉, x₀), DiffRow(x₀, x₃), DiffRow(x₀, \n",
       "x₇), DiffRow(x₁, x₀), DiffRow(x₁₀, x₀), DiffRow(x₁₁, x₀), DiffRow(x₂, x₀), Dif\n",
       "fRow(x₄, x₀), DiffRow(x₅, x₀), DiffRow(x₆, x₀), DiffRow(x₈, x₀), DiffRow(x₉, x\n",
       "₀)])"
      ]
     },
     "metadata": {},
     "output_type": "display_data"
    },
    {
     "name": "stdout",
     "output_type": "stream",
     "text": [
      "Solving N-Queens CSP...\n",
      "search time is 29.9601149559021\n",
      "nodes visited: 57\n",
      "nodes expanded: 13\n"
     ]
    },
    {
     "data": {
      "image/png": "[encoded data removed]",
      "text/plain": [
       "<matplotlib.figure.Figure at 0x10ad5c320>"
      ]
     },
     "metadata": {},
     "output_type": "display_data"
    },
    {
     "name": "stdout",
     "output_type": "stream",
     "text": [
      "Solution found:\n",
      "{x0: 0, x1: 3, x2: 6, x7: 2, x5: 1, x9: 10, x8: 5, x4: 7, x3: 9, x6: 11, x10: 8, x11: 4}\n"
     ]
    }
   ],
   "source": [
    "import time\n",
    "\n",
    "num_queens = 12\n",
    "csp = NQueensCSP(num_queens)\n",
    "var = csp.variables[0]\n",
    "print(\"CSP problems have variables, each variable has a domain, and the problem has a list of constraints.\")\n",
    "print(\"Showing the variables for the N-Queens CSP:\")\n",
    "display(csp.variables)\n",
    "print(\"Showing domain for {}:\".format(var))\n",
    "display(csp.domains[var])\n",
    "print(\"And showing the constraints for {}:\".format(var))\n",
    "display(csp._constraints[var])\n",
    "\n",
    "print(\"Solving N-Queens CSP...\")\n",
    "start = time.time()\n",
    "assn, node_visited, node_expanded = backtracking_search(csp)\n",
    "during = time.time() - start\n",
    "print('search time is {}'.format(during))\n",
    "print('nodes visited: {}'.format(node_visited))\n",
    "print('nodes expanded: {}'.format(node_expanded))\n",
    "if assn is not None:\n",
    "    csp.show(assn)\n",
    "    print(\"Solution found:\\n{!s}\".format(assn))\n",
    "else:\n",
    "    print(\"No solution found.\")"
   ]
  },
  {
   "cell_type": "markdown",
   "metadata": {
    "deletable": true,
    "editable": true
   },
   "source": [
    "## IV. Experiments (Optional)\n",
    "For each optional experiment, discuss the answers to these questions on the forum: Do you expect this change to be more efficient, less efficient, or the same?  Why or why not?  Is your prediction correct?  What metric did you compare (e.g., time, space, nodes visited, etc.)?\n",
    "\n",
    "- Implement a _bad_ N-queens solver: generate & test candidate solutions one at a time until a valid solution is found.  For example, represent the board as an array with $N^2$ elements, and let each element be True if there is a queen in that box, and False if it is empty.  Use an $N^2$-bit counter to generate solutions, then write a function to check if each solution is valid.  Notice that this solution doesn't require any of the techniques we've applied to other problems -- there is no DFS or backtracking, nor constraint propagation, or even explicitly defined variables.\n",
    "- Use more complex constraints -- i.e., generalize the binary constraint RowDiff to an N-ary constraint AllRowsDiff, etc., -- and solve the problem again.\n",
    "- Rewrite the CSP class to use forward checking to restrict the domain of each variable as new values are assigned.\n",
    "- The sympy library isn't very fast, so this version of the CSP doesn't work well on boards bigger than about 12x12.  Write a new representation of the problem class that uses constraint functions (like the Sudoku project) to implicitly track constraint satisfaction through the restricted domain of each variable.  How much larger can you solve?\n",
    "- Create your own CSP!"
   ]
  },
  {
   "cell_type": "code",
   "execution_count": null,
   "metadata": {
    "collapsed": true
   },
   "outputs": [],
   "source": []
  }
 ],
 "metadata": {
  "anaconda-cloud": {},
  "kernelspec": {
   "display_name": "Python 3",
   "language": "python",
   "name": "python3"
  },
  "language_info": {
   "codemirror_mode": {
    "name": "ipython",
    "version": 3
   },
   "file_extension": ".py",
   "mimetype": "text/x-python",
   "name": "python",
   "nbconvert_exporter": "python",
   "pygments_lexer": "ipython3",
   "version": "3.6.0"
  }
 },
 "nbformat": 4,
 "nbformat_minor": 1
}
